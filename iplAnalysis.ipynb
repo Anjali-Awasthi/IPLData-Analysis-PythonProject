{
 "cells": [
  {
   "cell_type": "code",
   "execution_count": 8,
   "id": "c768ca87-a1c1-43cf-a9d4-431a50ca2542",
   "metadata": {},
   "outputs": [],
   "source": [
    "import pandas as pd\n",
    "from matplotlib import pyplot as plt\n",
    "import seaborn as sns"
   ]
  },
  {
   "cell_type": "code",
   "execution_count": 38,
   "id": "b3e6fdc3-ed25-435d-bca5-f7c436bb4af0",
   "metadata": {},
   "outputs": [],
   "source": [
    "ipl = pd.read_csv('ipl2023.csv')"
   ]
  },
  {
   "cell_type": "code",
   "execution_count": 39,
   "id": "3a6616d6-f955-4b11-a6dd-be46f8e3452f",
   "metadata": {},
   "outputs": [
    {
     "data": {
      "text/plain": [
       "<bound method NDFrame.head of     season        date  match_number  match_type  \\\n",
       "0     2023  31-03-2023             1       Group   \n",
       "1     2023  01-04-2023             2       Group   \n",
       "2     2023  01-04-2023             3       Group   \n",
       "3     2023  02-04-2023             4       Group   \n",
       "4     2023  02-04-2023             5       Group   \n",
       "..     ...         ...           ...         ...   \n",
       "69    2023  21-05-2023            70       Group   \n",
       "70    2023  23-05-2023            71   Qualifier   \n",
       "71    2023  24-05-2023            72  Eliminator   \n",
       "72    2023  26-05-2023            73   Qualifier   \n",
       "73    2023  29-05-2023            74       Final   \n",
       "\n",
       "                                                venue    location  \\\n",
       "0                               Narendra Modi Stadium   Ahmedabad   \n",
       "1        Punjab Cricket Association IS Bindra Stadium  Chandigarh   \n",
       "2   Bharat Ratna Shri Atal Bihari Vajpayee Ekana C...     Lucknow   \n",
       "3                  Rajiv Gandhi International Stadium   Hyderabad   \n",
       "4                               M Chinnaswamy Stadium   Bengaluru   \n",
       "..                                                ...         ...   \n",
       "69                              M Chinnaswamy Stadium   Bengaluru   \n",
       "70                             MA Chidambaram Stadium     Chennai   \n",
       "71                             MA Chidambaram Stadium     Chennai   \n",
       "72                              Narendra Modi Stadium   Ahmedabad   \n",
       "73                              Narendra Modi Stadium   Ahmedabad   \n",
       "\n",
       "                          team1                        team2  \\\n",
       "0           Chennai Super Kings               Gujarat Titans   \n",
       "1                  Punjab Kings        Kolkata Knight Riders   \n",
       "2          Lucknow Super Giants               Delhi Capitals   \n",
       "3              Rajasthan Royals          Sunrisers Hyderabad   \n",
       "4                Mumbai Indians  Royal Challengers Bangalore   \n",
       "..                          ...                          ...   \n",
       "69  Royal Challengers Bangalore               Gujarat Titans   \n",
       "70          Chennai Super Kings               Gujarat Titans   \n",
       "71               Mumbai Indians         Lucknow Super Giants   \n",
       "72               Gujarat Titans               Mumbai Indians   \n",
       "73          Chennai Super Kings               Gujarat Titans   \n",
       "\n",
       "                       toss_won toss_decision                umpire1  \\\n",
       "0                Gujarat Titans         field            Nitin Menon   \n",
       "1         Kolkata Knight Riders         field           BNJ Oxenford   \n",
       "2                Delhi Capitals         field           AK Chaudhary   \n",
       "3           Sunrisers Hyderabad         field  KN Ananthapadmanabhan   \n",
       "4   Royal Challengers Bangalore         field            Nitin Menon   \n",
       "..                          ...           ...                    ...   \n",
       "69               Gujarat Titans         field            Nitin Menon   \n",
       "70               Gujarat Titans         field           AK Chaudhary   \n",
       "71               Mumbai Indians           bat           BNJ Oxenford   \n",
       "72               Mumbai Indians         field            Nitin Menon   \n",
       "73          Chennai Super Kings         field            Nitin Menon   \n",
       "\n",
       "          umpire2         reserve_umpire    match_referee  \\\n",
       "0      HAS Khalid              A Bengeri        J Srinath   \n",
       "1        YC Barde               PM Joshi         M Nayyar   \n",
       "2   NA Patwardhan             M Kuppuraj       DS Manohar   \n",
       "3        R Pandit   Abhijit Bhattacharya  V Narayan Kutty   \n",
       "4    Tapan Sharma              A Bengeri        J Srinath   \n",
       "..            ...                    ...              ...   \n",
       "69      VK Sharma              VM Dhokre        J Srinath   \n",
       "70    CB Gaffaney              VK Sharma         M Nayyar   \n",
       "71      VK Sharma           AK Chaudhary  V Narayan Kutty   \n",
       "72      RJ Tucker  KN Ananthapadmanabhan        J Srinath   \n",
       "73      RJ Tucker          J Madanagopal        J Srinath   \n",
       "\n",
       "                         winner  winner_runs  winner_wickets    man_of_match  \n",
       "0                Gujarat Titans            0               5     Rashid Khan  \n",
       "1                  Punjab Kings            7               0  Arshdeep Singh  \n",
       "2          Lucknow Super Giants           50               0         MA Wood  \n",
       "3              Rajasthan Royals           72               0      JC Buttler  \n",
       "4   Royal Challengers Bangalore            0               8    F du Plessis  \n",
       "..                          ...          ...             ...             ...  \n",
       "69               Gujarat Titans            0               6    Shubman Gill  \n",
       "70          Chennai Super Kings           15               0      RD Gaikwad  \n",
       "71               Mumbai Indians           81               0   Akash Madhwal  \n",
       "72               Gujarat Titans           62               0    Shubman Gill  \n",
       "73          Chennai Super Kings            0               5       DP Conway  \n",
       "\n",
       "[74 rows x 18 columns]>"
      ]
     },
     "execution_count": 39,
     "metadata": {},
     "output_type": "execute_result"
    }
   ],
   "source": [
    "ipl.head"
   ]
  },
  {
   "cell_type": "code",
   "execution_count": 40,
   "id": "d765ca66-3a14-4c6f-b3bf-f63dad4df946",
   "metadata": {},
   "outputs": [
    {
     "data": {
      "text/plain": [
       "(74, 18)"
      ]
     },
     "execution_count": 40,
     "metadata": {},
     "output_type": "execute_result"
    }
   ],
   "source": [
    "ipl.shape"
   ]
  },
  {
   "cell_type": "code",
   "execution_count": 41,
   "id": "97c56b2a-f87b-4784-bb57-1a5fb37c044a",
   "metadata": {},
   "outputs": [
    {
     "data": {
      "text/plain": [
       "man_of_match\n",
       "Shubman Gill       4\n",
       "YBK Jaiswal        4\n",
       "MP Stoinis         3\n",
       "DP Conway          3\n",
       "RA Jadeja          3\n",
       "N Pooran           2\n",
       "RD Gaikwad         2\n",
       "SA Yadav           2\n",
       "CV Varun           2\n",
       "C Green            2\n",
       "V Kohli            2\n",
       "MM Sharma          2\n",
       "Rashid Khan        2\n",
       "F du Plessis       2\n",
       "RK Singh           2\n",
       "S Dhawan           1\n",
       "GD Phillips        1\n",
       "J Little           1\n",
       "MR Marsh           1\n",
       "Mohammed Shami     1\n",
       "Ishan Kishan       1\n",
       "M Pathirana        1\n",
       "PD Salt            1\n",
       "AD Russell         1\n",
       "JC Buttler         1\n",
       "PN Mankad          1\n",
       "P Simran Singh     1\n",
       "WD Parnell         1\n",
       "RR Rossouw         1\n",
       "D Padikkal         1\n",
       "MA Wood            1\n",
       "MM Ali             1\n",
       "A Manohar          1\n",
       "AR Patel           1\n",
       "AM Rahane          1\n",
       "RG Sharma          1\n",
       "R Ashwin           1\n",
       "KH Pandya          1\n",
       "HC Brook           1\n",
       "SN Thakur          1\n",
       "Sikandar Raza      1\n",
       "VR Iyer            1\n",
       "SO Hetmyer         1\n",
       "NT Ellis           1\n",
       "B Sai Sudharsan    1\n",
       "Arshdeep Singh     1\n",
       "Mohammed Siraj     1\n",
       "I Sharma           1\n",
       "SM Curran          1\n",
       "GJ Maxwell         1\n",
       "Akash Madhwal      1\n",
       "Name: count, dtype: int64"
      ]
     },
     "execution_count": 41,
     "metadata": {},
     "output_type": "execute_result"
    }
   ],
   "source": [
    "ipl['man_of_match'].value_counts()"
   ]
  },
  {
   "cell_type": "code",
   "execution_count": 42,
   "id": "a1454a2f-cbbe-4eed-a721-d2b9c981f135",
   "metadata": {},
   "outputs": [
    {
     "data": {
      "text/plain": [
       "man_of_match\n",
       "Shubman Gill    4\n",
       "YBK Jaiswal     4\n",
       "MP Stoinis      3\n",
       "DP Conway       3\n",
       "RA Jadeja       3\n",
       "N Pooran        2\n",
       "RD Gaikwad      2\n",
       "SA Yadav        2\n",
       "CV Varun        2\n",
       "C Green         2\n",
       "Name: count, dtype: int64"
      ]
     },
     "execution_count": 42,
     "metadata": {},
     "output_type": "execute_result"
    }
   ],
   "source": [
    "ipl['man_of_match'].value_counts()[:10]"
   ]
  },
  {
   "cell_type": "code",
   "execution_count": 43,
   "id": "3c1918fa-1781-4879-aef4-6c5298983058",
   "metadata": {},
   "outputs": [
    {
     "data": {
      "text/plain": [
       "man_of_match\n",
       "Shubman Gill    4\n",
       "YBK Jaiswal     4\n",
       "MP Stoinis      3\n",
       "DP Conway       3\n",
       "RA Jadeja       3\n",
       "Name: count, dtype: int64"
      ]
     },
     "execution_count": 43,
     "metadata": {},
     "output_type": "execute_result"
    }
   ],
   "source": [
    "ipl['man_of_match'].value_counts()[:5]"
   ]
  },
  {
   "cell_type": "code",
   "execution_count": 44,
   "id": "48a74661-9671-4000-8ecb-17563101de7c",
   "metadata": {},
   "outputs": [
    {
     "data": {
      "text/plain": [
       "['Shubman Gill', 'YBK Jaiswal', 'MP Stoinis', 'DP Conway', 'RA Jadeja']"
      ]
     },
     "execution_count": 44,
     "metadata": {},
     "output_type": "execute_result"
    }
   ],
   "source": [
    "list(ipl['man_of_match'].value_counts()[:5].keys())"
   ]
  },
  {
   "cell_type": "code",
   "execution_count": 22,
   "id": "7858db82-b594-4028-8ab1-55d96da16c02",
   "metadata": {},
   "outputs": [
    {
     "data": {
      "image/png": "[encoded data removed]",
      "text/plain": [
       "<Figure size 800x500 with 1 Axes>"
      ]
     },
     "metadata": {},
     "output_type": "display_data"
    }
   ],
   "source": [
    "plt.figure(figsize=(8,5))\n",
    "plt.bar(list(ipl['man_of_match'].value_counts()[:5].keys()), list(ipl['man_of_match'].value_counts()[:5]), color = 'g')\n",
    "plt.show()"
   ]
  },
  {
   "cell_type": "code",
   "execution_count": 24,
   "id": "099caf25-8c34-4f87-8e4b-72f4092d6eb1",
   "metadata": {},
   "outputs": [
    {
     "data": {
      "text/plain": [
       "winner\n",
       "Gujarat Titans                 11\n",
       "Chennai Super Kings            10\n",
       "Mumbai Indians                  9\n",
       "Lucknow Super Giants            8\n",
       "Rajasthan Royals                7\n",
       "Royal Challengers Bangalore     7\n",
       "Punjab Kings                    6\n",
       "Kolkata Knight Riders           6\n",
       "Delhi Capitals                  5\n",
       "Sunrisers Hyderabad             4\n",
       "No Result                       1\n",
       "Name: count, dtype: int64"
      ]
     },
     "execution_count": 24,
     "metadata": {},
     "output_type": "execute_result"
    }
   ],
   "source": [
    "ipl['winner'].value_counts()"
   ]
  },
  {
   "cell_type": "code",
   "execution_count": 25,
   "id": "cbafd566-958b-4f5f-a26a-e3f5004a505d",
   "metadata": {},
   "outputs": [
    {
     "data": {
      "text/plain": [
       "toss_won\n",
       "Rajasthan Royals               10\n",
       "Chennai Super Kings            10\n",
       "Mumbai Indians                 10\n",
       "Gujarat Titans                  9\n",
       "Royal Challengers Bangalore     8\n",
       "Delhi Capitals                  7\n",
       "Sunrisers Hyderabad             7\n",
       "Kolkata Knight Riders           5\n",
       "Punjab Kings                    5\n",
       "Lucknow Super Giants            3\n",
       "Name: count, dtype: int64"
      ]
     },
     "execution_count": 25,
     "metadata": {},
     "output_type": "execute_result"
    }
   ],
   "source": [
    "ipl['toss_won'].value_counts()"
   ]
  },
  {
   "cell_type": "code",
   "execution_count": 45,
   "id": "4ac8864e-de06-44c7-963b-e81f1deeeb4f",
   "metadata": {},
   "outputs": [],
   "source": [
    "batting_first = ipl[ipl['winner_runs']!=0]"
   ]
  },
  {
   "cell_type": "code",
   "execution_count": 46,
   "id": "7e15ccca-da4c-4ecc-9765-79ba3f9141c8",
   "metadata": {},
   "outputs": [
    {
     "data": {
      "text/html": [
       "<div>\n",
       "<style scoped>\n",
       "    .dataframe tbody tr th:only-of-type {\n",
       "        vertical-align: middle;\n",
       "    }\n",
       "\n",
       "    .dataframe tbody tr th {\n",
       "        vertical-align: top;\n",
       "    }\n",
       "\n",
       "    .dataframe thead th {\n",
       "        text-align: right;\n",
       "    }\n",
       "</style>\n",
       "<table border=\"1\" class=\"dataframe\">\n",
       "  <thead>\n",
       "    <tr style=\"text-align: right;\">\n",
       "      <th></th>\n",
       "      <th>season</th>\n",
       "      <th>date</th>\n",
       "      <th>match_number</th>\n",
       "      <th>match_type</th>\n",
       "      <th>venue</th>\n",
       "      <th>location</th>\n",
       "      <th>team1</th>\n",
       "      <th>team2</th>\n",
       "      <th>toss_won</th>\n",
       "      <th>toss_decision</th>\n",
       "      <th>umpire1</th>\n",
       "      <th>umpire2</th>\n",
       "      <th>reserve_umpire</th>\n",
       "      <th>match_referee</th>\n",
       "      <th>winner</th>\n",
       "      <th>winner_runs</th>\n",
       "      <th>winner_wickets</th>\n",
       "      <th>man_of_match</th>\n",
       "    </tr>\n",
       "  </thead>\n",
       "  <tbody>\n",
       "    <tr>\n",
       "      <th>1</th>\n",
       "      <td>2023</td>\n",
       "      <td>01-04-2023</td>\n",
       "      <td>2</td>\n",
       "      <td>Group</td>\n",
       "      <td>Punjab Cricket Association IS Bindra Stadium</td>\n",
       "      <td>Chandigarh</td>\n",
       "      <td>Punjab Kings</td>\n",
       "      <td>Kolkata Knight Riders</td>\n",
       "      <td>Kolkata Knight Riders</td>\n",
       "      <td>field</td>\n",
       "      <td>BNJ Oxenford</td>\n",
       "      <td>YC Barde</td>\n",
       "      <td>PM Joshi</td>\n",
       "      <td>M Nayyar</td>\n",
       "      <td>Punjab Kings</td>\n",
       "      <td>7</td>\n",
       "      <td>0</td>\n",
       "      <td>Arshdeep Singh</td>\n",
       "    </tr>\n",
       "    <tr>\n",
       "      <th>2</th>\n",
       "      <td>2023</td>\n",
       "      <td>01-04-2023</td>\n",
       "      <td>3</td>\n",
       "      <td>Group</td>\n",
       "      <td>Bharat Ratna Shri Atal Bihari Vajpayee Ekana C...</td>\n",
       "      <td>Lucknow</td>\n",
       "      <td>Lucknow Super Giants</td>\n",
       "      <td>Delhi Capitals</td>\n",
       "      <td>Delhi Capitals</td>\n",
       "      <td>field</td>\n",
       "      <td>AK Chaudhary</td>\n",
       "      <td>NA Patwardhan</td>\n",
       "      <td>M Kuppuraj</td>\n",
       "      <td>DS Manohar</td>\n",
       "      <td>Lucknow Super Giants</td>\n",
       "      <td>50</td>\n",
       "      <td>0</td>\n",
       "      <td>MA Wood</td>\n",
       "    </tr>\n",
       "    <tr>\n",
       "      <th>3</th>\n",
       "      <td>2023</td>\n",
       "      <td>02-04-2023</td>\n",
       "      <td>4</td>\n",
       "      <td>Group</td>\n",
       "      <td>Rajiv Gandhi International Stadium</td>\n",
       "      <td>Hyderabad</td>\n",
       "      <td>Rajasthan Royals</td>\n",
       "      <td>Sunrisers Hyderabad</td>\n",
       "      <td>Sunrisers Hyderabad</td>\n",
       "      <td>field</td>\n",
       "      <td>KN Ananthapadmanabhan</td>\n",
       "      <td>R Pandit</td>\n",
       "      <td>Abhijit Bhattacharya</td>\n",
       "      <td>V Narayan Kutty</td>\n",
       "      <td>Rajasthan Royals</td>\n",
       "      <td>72</td>\n",
       "      <td>0</td>\n",
       "      <td>JC Buttler</td>\n",
       "    </tr>\n",
       "    <tr>\n",
       "      <th>5</th>\n",
       "      <td>2023</td>\n",
       "      <td>03-04-2023</td>\n",
       "      <td>6</td>\n",
       "      <td>Group</td>\n",
       "      <td>MA Chidambaram Stadium</td>\n",
       "      <td>Chennai</td>\n",
       "      <td>Chennai Super Kings</td>\n",
       "      <td>Lucknow Super Giants</td>\n",
       "      <td>Lucknow Super Giants</td>\n",
       "      <td>field</td>\n",
       "      <td>A Totre</td>\n",
       "      <td>BNJ Oxenford</td>\n",
       "      <td>PM Joshi</td>\n",
       "      <td>M Nayyar</td>\n",
       "      <td>Chennai Super Kings</td>\n",
       "      <td>12</td>\n",
       "      <td>0</td>\n",
       "      <td>MM Ali</td>\n",
       "    </tr>\n",
       "    <tr>\n",
       "      <th>7</th>\n",
       "      <td>2023</td>\n",
       "      <td>05-04-2023</td>\n",
       "      <td>8</td>\n",
       "      <td>Group</td>\n",
       "      <td>Barsapara Cricket Stadium</td>\n",
       "      <td>Guwahati</td>\n",
       "      <td>Punjab Kings</td>\n",
       "      <td>Rajasthan Royals</td>\n",
       "      <td>Rajasthan Royals</td>\n",
       "      <td>field</td>\n",
       "      <td>KN Ananthapadmanabhan</td>\n",
       "      <td>MV Saidharshan Kumar</td>\n",
       "      <td>Abhijit Bhattacharya</td>\n",
       "      <td>V Narayan Kutty</td>\n",
       "      <td>Punjab Kings</td>\n",
       "      <td>5</td>\n",
       "      <td>0</td>\n",
       "      <td>NT Ellis</td>\n",
       "    </tr>\n",
       "  </tbody>\n",
       "</table>\n",
       "</div>"
      ],
      "text/plain": [
       "   season        date  match_number match_type  \\\n",
       "1    2023  01-04-2023             2      Group   \n",
       "2    2023  01-04-2023             3      Group   \n",
       "3    2023  02-04-2023             4      Group   \n",
       "5    2023  03-04-2023             6      Group   \n",
       "7    2023  05-04-2023             8      Group   \n",
       "\n",
       "                                               venue    location  \\\n",
       "1       Punjab Cricket Association IS Bindra Stadium  Chandigarh   \n",
       "2  Bharat Ratna Shri Atal Bihari Vajpayee Ekana C...     Lucknow   \n",
       "3                 Rajiv Gandhi International Stadium   Hyderabad   \n",
       "5                             MA Chidambaram Stadium     Chennai   \n",
       "7                          Barsapara Cricket Stadium    Guwahati   \n",
       "\n",
       "                  team1                  team2               toss_won  \\\n",
       "1          Punjab Kings  Kolkata Knight Riders  Kolkata Knight Riders   \n",
       "2  Lucknow Super Giants         Delhi Capitals         Delhi Capitals   \n",
       "3      Rajasthan Royals    Sunrisers Hyderabad    Sunrisers Hyderabad   \n",
       "5   Chennai Super Kings   Lucknow Super Giants   Lucknow Super Giants   \n",
       "7          Punjab Kings       Rajasthan Royals       Rajasthan Royals   \n",
       "\n",
       "  toss_decision                umpire1               umpire2  \\\n",
       "1         field           BNJ Oxenford              YC Barde   \n",
       "2         field           AK Chaudhary         NA Patwardhan   \n",
       "3         field  KN Ananthapadmanabhan              R Pandit   \n",
       "5         field                A Totre          BNJ Oxenford   \n",
       "7         field  KN Ananthapadmanabhan  MV Saidharshan Kumar   \n",
       "\n",
       "         reserve_umpire    match_referee                winner  winner_runs  \\\n",
       "1              PM Joshi         M Nayyar          Punjab Kings            7   \n",
       "2            M Kuppuraj       DS Manohar  Lucknow Super Giants           50   \n",
       "3  Abhijit Bhattacharya  V Narayan Kutty      Rajasthan Royals           72   \n",
       "5              PM Joshi         M Nayyar   Chennai Super Kings           12   \n",
       "7  Abhijit Bhattacharya  V Narayan Kutty          Punjab Kings            5   \n",
       "\n",
       "   winner_wickets    man_of_match  \n",
       "1               0  Arshdeep Singh  \n",
       "2               0         MA Wood  \n",
       "3               0      JC Buttler  \n",
       "5               0          MM Ali  \n",
       "7               0        NT Ellis  "
      ]
     },
     "execution_count": 46,
     "metadata": {},
     "output_type": "execute_result"
    }
   ],
   "source": [
    "batting_first.head()"
   ]
  },
  {
   "cell_type": "code",
   "execution_count": 49,
   "id": "396a283d-75aa-4650-927d-937c6396a7a5",
   "metadata": {},
   "outputs": [
    {
     "data": {
      "image/png": "[encoded data removed]",
      "text/plain": [
       "<Figure size 500x500 with 1 Axes>"
      ]
     },
     "metadata": {},
     "output_type": "display_data"
    }
   ],
   "source": [
    "plt.figure(figsize=(5,5))\n",
    "plt.hist(batting_first['winner_runs'])\n",
    "plt.title('Distribution of Runs')\n",
    "plt.xlabel('Runs')\n",
    "plt.show()"
   ]
  },
  {
   "cell_type": "code",
   "execution_count": 50,
   "id": "1ff39164-0b26-4551-8f3b-255efcc62b1f",
   "metadata": {},
   "outputs": [
    {
     "data": {
      "text/plain": [
       "winner\n",
       "Chennai Super Kings            6\n",
       "Lucknow Super Giants           5\n",
       "Royal Challengers Bangalore    5\n",
       "Gujarat Titans                 5\n",
       "Punjab Kings                   4\n",
       "Rajasthan Royals               4\n",
       "Kolkata Knight Riders          3\n",
       "Mumbai Indians                 3\n",
       "Delhi Capitals                 3\n",
       "Sunrisers Hyderabad            2\n",
       "Name: count, dtype: int64"
      ]
     },
     "execution_count": 50,
     "metadata": {},
     "output_type": "execute_result"
    }
   ],
   "source": [
    "batting_first['winner'].value_counts()"
   ]
  },
  {
   "cell_type": "code",
   "execution_count": 71,
   "id": "4fb49f29-c353-4e47-8aca-627c31c122f8",
   "metadata": {},
   "outputs": [
    {
     "data": {
      "image/png": "[encoded data removed]",
      "text/plain": [
       "<Figure size 800x400 with 1 Axes>"
      ]
     },
     "metadata": {},
     "output_type": "display_data"
    }
   ],
   "source": [
    "plt.figure(figsize = (8,4))\n",
    "plt.bar(list(batting_first['winner'].value_counts()[0:3].keys()), list(batting_first['winner'].value_counts()[0:3]), color = [\"yellow\", \"blue\",\"red\"])\n",
    "plt.show()"
   ]
  },
  {
   "cell_type": "code",
   "execution_count": 58,
   "id": "7521b611-5f13-4ca8-9ee7-f1e168de99a7",
   "metadata": {},
   "outputs": [
    {
     "data": {
      "image/png": "[encoded data removed]",
      "text/plain": [
       "<Figure size 700x700 with 1 Axes>"
      ]
     },
     "metadata": {},
     "output_type": "display_data"
    }
   ],
   "source": [
    "plt.figure(figsize = (7,7))\n",
    "plt.pie(list(batting_first['winner'].value_counts()),labels =list(batting_first['winner'].value_counts().keys()),autopct = '%0.1f%%')\n",
    "plt.show()"
   ]
  },
  {
   "cell_type": "code",
   "execution_count": 59,
   "id": "429a202e-08c7-41d8-85f0-328a893392d0",
   "metadata": {},
   "outputs": [],
   "source": [
    "batting_second = ipl[ipl['winner_wickets']!=0]"
   ]
  },
  {
   "cell_type": "code",
   "execution_count": 60,
   "id": "31465018-2cf4-44d9-8c2d-78ebe09c506b",
   "metadata": {},
   "outputs": [
    {
     "data": {
      "text/html": [
       "<div>\n",
       "<style scoped>\n",
       "    .dataframe tbody tr th:only-of-type {\n",
       "        vertical-align: middle;\n",
       "    }\n",
       "\n",
       "    .dataframe tbody tr th {\n",
       "        vertical-align: top;\n",
       "    }\n",
       "\n",
       "    .dataframe thead th {\n",
       "        text-align: right;\n",
       "    }\n",
       "</style>\n",
       "<table border=\"1\" class=\"dataframe\">\n",
       "  <thead>\n",
       "    <tr style=\"text-align: right;\">\n",
       "      <th></th>\n",
       "      <th>season</th>\n",
       "      <th>date</th>\n",
       "      <th>match_number</th>\n",
       "      <th>match_type</th>\n",
       "      <th>venue</th>\n",
       "      <th>location</th>\n",
       "      <th>team1</th>\n",
       "      <th>team2</th>\n",
       "      <th>toss_won</th>\n",
       "      <th>toss_decision</th>\n",
       "      <th>umpire1</th>\n",
       "      <th>umpire2</th>\n",
       "      <th>reserve_umpire</th>\n",
       "      <th>match_referee</th>\n",
       "      <th>winner</th>\n",
       "      <th>winner_runs</th>\n",
       "      <th>winner_wickets</th>\n",
       "      <th>man_of_match</th>\n",
       "    </tr>\n",
       "  </thead>\n",
       "  <tbody>\n",
       "    <tr>\n",
       "      <th>0</th>\n",
       "      <td>2023</td>\n",
       "      <td>31-03-2023</td>\n",
       "      <td>1</td>\n",
       "      <td>Group</td>\n",
       "      <td>Narendra Modi Stadium</td>\n",
       "      <td>Ahmedabad</td>\n",
       "      <td>Chennai Super Kings</td>\n",
       "      <td>Gujarat Titans</td>\n",
       "      <td>Gujarat Titans</td>\n",
       "      <td>field</td>\n",
       "      <td>Nitin Menon</td>\n",
       "      <td>HAS Khalid</td>\n",
       "      <td>A Bengeri</td>\n",
       "      <td>J Srinath</td>\n",
       "      <td>Gujarat Titans</td>\n",
       "      <td>0</td>\n",
       "      <td>5</td>\n",
       "      <td>Rashid Khan</td>\n",
       "    </tr>\n",
       "    <tr>\n",
       "      <th>4</th>\n",
       "      <td>2023</td>\n",
       "      <td>02-04-2023</td>\n",
       "      <td>5</td>\n",
       "      <td>Group</td>\n",
       "      <td>M Chinnaswamy Stadium</td>\n",
       "      <td>Bengaluru</td>\n",
       "      <td>Mumbai Indians</td>\n",
       "      <td>Royal Challengers Bangalore</td>\n",
       "      <td>Royal Challengers Bangalore</td>\n",
       "      <td>field</td>\n",
       "      <td>Nitin Menon</td>\n",
       "      <td>Tapan Sharma</td>\n",
       "      <td>A Bengeri</td>\n",
       "      <td>J Srinath</td>\n",
       "      <td>Royal Challengers Bangalore</td>\n",
       "      <td>0</td>\n",
       "      <td>8</td>\n",
       "      <td>F du Plessis</td>\n",
       "    </tr>\n",
       "    <tr>\n",
       "      <th>6</th>\n",
       "      <td>2023</td>\n",
       "      <td>04-04-2023</td>\n",
       "      <td>7</td>\n",
       "      <td>Group</td>\n",
       "      <td>Arun Jaitley Stadium</td>\n",
       "      <td>Delhi</td>\n",
       "      <td>Delhi Capitals</td>\n",
       "      <td>Gujarat Titans</td>\n",
       "      <td>Gujarat Titans</td>\n",
       "      <td>field</td>\n",
       "      <td>A Nand Kishore</td>\n",
       "      <td>GR Sadashiv Iyer</td>\n",
       "      <td>M Kuppuraj</td>\n",
       "      <td>DS Manohar</td>\n",
       "      <td>Gujarat Titans</td>\n",
       "      <td>0</td>\n",
       "      <td>6</td>\n",
       "      <td>B Sai Sudharsan</td>\n",
       "    </tr>\n",
       "    <tr>\n",
       "      <th>9</th>\n",
       "      <td>2023</td>\n",
       "      <td>07-04-2023</td>\n",
       "      <td>10</td>\n",
       "      <td>Group</td>\n",
       "      <td>Bharat Ratna Shri Atal Bihari Vajpayee Ekana C...</td>\n",
       "      <td>Lucknow</td>\n",
       "      <td>Sunrisers Hyderabad</td>\n",
       "      <td>Lucknow Super Giants</td>\n",
       "      <td>Sunrisers Hyderabad</td>\n",
       "      <td>bat</td>\n",
       "      <td>J Madanagopal</td>\n",
       "      <td>YC Barde</td>\n",
       "      <td>PM Joshi</td>\n",
       "      <td>M Nayyar</td>\n",
       "      <td>Lucknow Super Giants</td>\n",
       "      <td>0</td>\n",
       "      <td>5</td>\n",
       "      <td>KH Pandya</td>\n",
       "    </tr>\n",
       "    <tr>\n",
       "      <th>11</th>\n",
       "      <td>2023</td>\n",
       "      <td>08-04-2023</td>\n",
       "      <td>12</td>\n",
       "      <td>Group</td>\n",
       "      <td>Wankhede Stadium</td>\n",
       "      <td>Mumbai</td>\n",
       "      <td>Mumbai Indians</td>\n",
       "      <td>Chennai Super Kings</td>\n",
       "      <td>Chennai Super Kings</td>\n",
       "      <td>field</td>\n",
       "      <td>CB Gaffaney</td>\n",
       "      <td>NA Patwardhan</td>\n",
       "      <td>M Kuppuraj</td>\n",
       "      <td>DS Manohar</td>\n",
       "      <td>Chennai Super Kings</td>\n",
       "      <td>0</td>\n",
       "      <td>7</td>\n",
       "      <td>RA Jadeja</td>\n",
       "    </tr>\n",
       "  </tbody>\n",
       "</table>\n",
       "</div>"
      ],
      "text/plain": [
       "    season        date  match_number match_type  \\\n",
       "0     2023  31-03-2023             1      Group   \n",
       "4     2023  02-04-2023             5      Group   \n",
       "6     2023  04-04-2023             7      Group   \n",
       "9     2023  07-04-2023            10      Group   \n",
       "11    2023  08-04-2023            12      Group   \n",
       "\n",
       "                                                venue   location  \\\n",
       "0                               Narendra Modi Stadium  Ahmedabad   \n",
       "4                               M Chinnaswamy Stadium  Bengaluru   \n",
       "6                                Arun Jaitley Stadium      Delhi   \n",
       "9   Bharat Ratna Shri Atal Bihari Vajpayee Ekana C...    Lucknow   \n",
       "11                                   Wankhede Stadium     Mumbai   \n",
       "\n",
       "                  team1                        team2  \\\n",
       "0   Chennai Super Kings               Gujarat Titans   \n",
       "4        Mumbai Indians  Royal Challengers Bangalore   \n",
       "6        Delhi Capitals               Gujarat Titans   \n",
       "9   Sunrisers Hyderabad         Lucknow Super Giants   \n",
       "11       Mumbai Indians          Chennai Super Kings   \n",
       "\n",
       "                       toss_won toss_decision         umpire1  \\\n",
       "0                Gujarat Titans         field     Nitin Menon   \n",
       "4   Royal Challengers Bangalore         field     Nitin Menon   \n",
       "6                Gujarat Titans         field  A Nand Kishore   \n",
       "9           Sunrisers Hyderabad           bat   J Madanagopal   \n",
       "11          Chennai Super Kings         field     CB Gaffaney   \n",
       "\n",
       "             umpire2 reserve_umpire match_referee  \\\n",
       "0         HAS Khalid      A Bengeri     J Srinath   \n",
       "4       Tapan Sharma      A Bengeri     J Srinath   \n",
       "6   GR Sadashiv Iyer     M Kuppuraj    DS Manohar   \n",
       "9           YC Barde       PM Joshi      M Nayyar   \n",
       "11     NA Patwardhan     M Kuppuraj    DS Manohar   \n",
       "\n",
       "                         winner  winner_runs  winner_wickets     man_of_match  \n",
       "0                Gujarat Titans            0               5      Rashid Khan  \n",
       "4   Royal Challengers Bangalore            0               8     F du Plessis  \n",
       "6                Gujarat Titans            0               6  B Sai Sudharsan  \n",
       "9          Lucknow Super Giants            0               5        KH Pandya  \n",
       "11          Chennai Super Kings            0               7        RA Jadeja  "
      ]
     },
     "execution_count": 60,
     "metadata": {},
     "output_type": "execute_result"
    }
   ],
   "source": [
    "batting_second.head()"
   ]
  },
  {
   "cell_type": "code",
   "execution_count": 62,
   "id": "efaaca7a-01e5-4b00-95b2-adffc70733b5",
   "metadata": {},
   "outputs": [
    {
     "data": {
      "image/png": "[encoded data removed]",
      "text/plain": [
       "<Figure size 500x500 with 1 Axes>"
      ]
     },
     "metadata": {},
     "output_type": "display_data"
    }
   ],
   "source": [
    "plt.figure(figsize = (5,5))\n",
    "plt.hist(batting_second['winner_wickets'], bins = 30)\n",
    "plt.show()"
   ]
  },
  {
   "cell_type": "code",
   "execution_count": 63,
   "id": "6f41b1e1-4b8f-4cff-bacb-a9db48562d3d",
   "metadata": {},
   "outputs": [
    {
     "data": {
      "text/plain": [
       "winner\n",
       "Gujarat Titans                 6\n",
       "Mumbai Indians                 6\n",
       "Chennai Super Kings            4\n",
       "Lucknow Super Giants           3\n",
       "Kolkata Knight Riders          3\n",
       "Rajasthan Royals               3\n",
       "Royal Challengers Bangalore    2\n",
       "Sunrisers Hyderabad            2\n",
       "Punjab Kings                   2\n",
       "Delhi Capitals                 2\n",
       "Name: count, dtype: int64"
      ]
     },
     "execution_count": 63,
     "metadata": {},
     "output_type": "execute_result"
    }
   ],
   "source": [
    "batting_second['winner'].value_counts()"
   ]
  },
  {
   "cell_type": "code",
   "execution_count": 72,
   "id": "1405b647-e2c0-425a-a0da-796ebcf75c27",
   "metadata": {},
   "outputs": [
    {
     "data": {
      "image/png": "[encoded data removed]",
      "text/plain": [
       "<Figure size 500x500 with 1 Axes>"
      ]
     },
     "metadata": {},
     "output_type": "display_data"
    }
   ],
   "source": [
    "plt.figure(figsize = (5,5))\n",
    "plt.bar(list(batting_second['winner'].value_counts()[0:3].keys()), list(batting_second['winner'].value_counts()[0:3]), color = [\"black\", \"blue\", \"yellow\"])\n",
    "plt.show()"
   ]
  },
  {
   "cell_type": "code",
   "execution_count": 74,
   "id": "22c34d48-bfbd-4640-a975-03c0889b2c16",
   "metadata": {},
   "outputs": [
    {
     "data": {
      "image/png": "[encoded data removed]",
      "text/plain": [
       "<Figure size 500x500 with 1 Axes>"
      ]
     },
     "metadata": {},
     "output_type": "display_data"
    }
   ],
   "source": [
    "plt.figure(figsize = (5,5))\n",
    "plt.pie(list(batting_second['winner'].value_counts()),labels =list(batting_second['winner'].value_counts().keys()),autopct = '%0.1f%%')\n",
    "plt.show()"
   ]
  },
  {
   "cell_type": "code",
   "execution_count": 75,
   "id": "410ef452-e9b7-49e9-854e-5db57ca97bbf",
   "metadata": {},
   "outputs": [
    {
     "data": {
      "text/plain": [
       "venue\n",
       "Narendra Modi Stadium                                           9\n",
       "MA Chidambaram Stadium                                          9\n",
       "Bharat Ratna Shri Atal Bihari Vajpayee Ekana Cricket Stadium    7\n",
       "Rajiv Gandhi International Stadium                              7\n",
       "M Chinnaswamy Stadium                                           7\n",
       "Arun Jaitley Stadium                                            7\n",
       "Eden Gardens                                                    7\n",
       "Wankhede Stadium                                                7\n",
       "Punjab Cricket Association IS Bindra Stadium                    5\n",
       "Sawai Mansingh Stadium                                          5\n",
       "Barsapara Cricket Stadium                                       2\n",
       "Himachal Pradesh Cricket Association Stadium                    2\n",
       "Name: count, dtype: int64"
      ]
     },
     "execution_count": 75,
     "metadata": {},
     "output_type": "execute_result"
    }
   ],
   "source": [
    "ipl['venue'].value_counts()"
   ]
  },
  {
   "cell_type": "code",
   "execution_count": 76,
   "id": "63a91ab1-0cbd-4747-8c8b-84f7548932af",
   "metadata": {},
   "outputs": [
    {
     "data": {
      "text/plain": [
       "location\n",
       "Ahmedabad     9\n",
       "Chennai       9\n",
       "Lucknow       7\n",
       "Hyderabad     7\n",
       "Bengaluru     7\n",
       "Delhi         7\n",
       "Kolkata       7\n",
       "Mumbai        7\n",
       "Chandigarh    5\n",
       "Jaipur        5\n",
       "Guwahati      2\n",
       "Dharamsala    2\n",
       "Name: count, dtype: int64"
      ]
     },
     "execution_count": 76,
     "metadata": {},
     "output_type": "execute_result"
    }
   ],
   "source": [
    "ipl['location'].value_counts()"
   ]
  },
  {
   "cell_type": "code",
   "execution_count": 77,
   "id": "17f522d6-e399-4e89-9aff-5f3bec045cfe",
   "metadata": {},
   "outputs": [
    {
     "data": {
      "text/plain": [
       "34"
      ]
     },
     "execution_count": 77,
     "metadata": {},
     "output_type": "execute_result"
    }
   ],
   "source": [
    "import numpy as np\n",
    "np.sum(ipl['toss_won']==ipl['winner'])"
   ]
  },
  {
   "cell_type": "code",
   "execution_count": 82,
   "id": "cd50086f-1bbe-4861-a4a7-5ab2562505ff",
   "metadata": {},
   "outputs": [
    {
     "data": {
      "text/plain": [
       "0.4594594594594595"
      ]
     },
     "execution_count": 82,
     "metadata": {},
     "output_type": "execute_result"
    }
   ],
   "source": [
    "34/74"
   ]
  },
  {
   "cell_type": "code",
   "execution_count": 78,
   "id": "fc36d4ea-eb3a-4738-9e30-aaf94e9a2a25",
   "metadata": {},
   "outputs": [],
   "source": [
    "deliveries = pd.read_csv('deliveries.csv')"
   ]
  },
  {
   "cell_type": "code",
   "execution_count": 79,
   "id": "cac531c8-346d-41d4-a192-2b6f8f605e48",
   "metadata": {},
   "outputs": [
    {
     "data": {
      "text/html": [
       "<div>\n",
       "<style scoped>\n",
       "    .dataframe tbody tr th:only-of-type {\n",
       "        vertical-align: middle;\n",
       "    }\n",
       "\n",
       "    .dataframe tbody tr th {\n",
       "        vertical-align: top;\n",
       "    }\n",
       "\n",
       "    .dataframe thead th {\n",
       "        text-align: right;\n",
       "    }\n",
       "</style>\n",
       "<table border=\"1\" class=\"dataframe\">\n",
       "  <thead>\n",
       "    <tr style=\"text-align: right;\">\n",
       "      <th></th>\n",
       "      <th>match_no</th>\n",
       "      <th>ballnumber</th>\n",
       "      <th>inningno</th>\n",
       "      <th>over</th>\n",
       "      <th>outcome</th>\n",
       "      <th>batter</th>\n",
       "      <th>bowler</th>\n",
       "      <th>comment</th>\n",
       "      <th>score</th>\n",
       "    </tr>\n",
       "  </thead>\n",
       "  <tbody>\n",
       "    <tr>\n",
       "      <th>0</th>\n",
       "      <td>1</td>\n",
       "      <td>1</td>\n",
       "      <td>1</td>\n",
       "      <td>0.1</td>\n",
       "      <td>0</td>\n",
       "      <td>Devon Conway</td>\n",
       "      <td>Mohammed Shami</td>\n",
       "      <td>Mohammed Shami to Devon Conway, no run,</td>\n",
       "      <td>0</td>\n",
       "    </tr>\n",
       "    <tr>\n",
       "      <th>1</th>\n",
       "      <td>1</td>\n",
       "      <td>2</td>\n",
       "      <td>1</td>\n",
       "      <td>0.2</td>\n",
       "      <td>1lb</td>\n",
       "      <td>Devon Conway</td>\n",
       "      <td>Mohammed Shami</td>\n",
       "      <td>Mohammed Shami to Devon Conway, 1 leg bye,</td>\n",
       "      <td>1</td>\n",
       "    </tr>\n",
       "    <tr>\n",
       "      <th>2</th>\n",
       "      <td>1</td>\n",
       "      <td>3</td>\n",
       "      <td>1</td>\n",
       "      <td>0.3</td>\n",
       "      <td>0</td>\n",
       "      <td>Ruturaj Gaikwad</td>\n",
       "      <td>Mohammed Shami</td>\n",
       "      <td>Mohammed Shami to Ruturaj Gaikwad, no run,</td>\n",
       "      <td>0</td>\n",
       "    </tr>\n",
       "    <tr>\n",
       "      <th>3</th>\n",
       "      <td>1</td>\n",
       "      <td>4</td>\n",
       "      <td>1</td>\n",
       "      <td>0.4</td>\n",
       "      <td>1</td>\n",
       "      <td>Ruturaj Gaikwad</td>\n",
       "      <td>Mohammed Shami</td>\n",
       "      <td>Mohammed Shami to Ruturaj Gaikwad, 1 run,</td>\n",
       "      <td>1</td>\n",
       "    </tr>\n",
       "    <tr>\n",
       "      <th>4</th>\n",
       "      <td>1</td>\n",
       "      <td>5</td>\n",
       "      <td>1</td>\n",
       "      <td>0.5</td>\n",
       "      <td>0</td>\n",
       "      <td>Devon Conway</td>\n",
       "      <td>Mohammed Shami</td>\n",
       "      <td>Mohammed Shami to Devon Conway, no run,</td>\n",
       "      <td>0</td>\n",
       "    </tr>\n",
       "  </tbody>\n",
       "</table>\n",
       "</div>"
      ],
      "text/plain": [
       "   match_no  ballnumber  inningno  over outcome           batter  \\\n",
       "0         1           1         1   0.1       0     Devon Conway   \n",
       "1         1           2         1   0.2     1lb     Devon Conway   \n",
       "2         1           3         1   0.3       0  Ruturaj Gaikwad   \n",
       "3         1           4         1   0.4       1  Ruturaj Gaikwad   \n",
       "4         1           5         1   0.5       0     Devon Conway   \n",
       "\n",
       "           bowler                                     comment  score  \n",
       "0  Mohammed Shami     Mohammed Shami to Devon Conway, no run,      0  \n",
       "1  Mohammed Shami  Mohammed Shami to Devon Conway, 1 leg bye,      1  \n",
       "2  Mohammed Shami  Mohammed Shami to Ruturaj Gaikwad, no run,      0  \n",
       "3  Mohammed Shami   Mohammed Shami to Ruturaj Gaikwad, 1 run,      1  \n",
       "4  Mohammed Shami     Mohammed Shami to Devon Conway, no run,      0  "
      ]
     },
     "execution_count": 79,
     "metadata": {},
     "output_type": "execute_result"
    }
   ],
   "source": [
    "deliveries.head()"
   ]
  },
  {
   "cell_type": "code",
   "execution_count": 80,
   "id": "4b04ea07-59e6-4afa-8b46-844f8c67bbe7",
   "metadata": {},
   "outputs": [
    {
     "data": {
      "text/plain": [
       "array([ 1,  2,  3,  4,  5,  6,  7,  8,  9, 10, 11, 12, 13, 14, 15, 16, 17,\n",
       "       18, 19, 20, 21, 22, 23, 24, 25, 26, 27, 28, 29, 30, 31, 32, 33, 34,\n",
       "       35, 36, 37, 38, 39, 40, 41, 42, 43, 44, 45, 46, 47, 48, 49, 50, 51,\n",
       "       52, 53, 54, 55, 56, 57, 58, 59, 60, 61, 62, 63, 64, 65, 66, 67, 68,\n",
       "       69, 70, 71, 72, 73, 74], dtype=int64)"
      ]
     },
     "execution_count": 80,
     "metadata": {},
     "output_type": "execute_result"
    }
   ],
   "source": [
    "deliveries['match_no'].unique()"
   ]
  },
  {
   "cell_type": "code",
   "execution_count": 81,
   "id": "9816f237-8059-49a0-ba9a-e3ad9bb54afd",
   "metadata": {},
   "outputs": [],
   "source": [
    "match_1 =deliveries[deliveries['match_no']==1]"
   ]
  },
  {
   "cell_type": "code",
   "execution_count": 83,
   "id": "5afe7827-98c1-49db-826e-ba7207ce37af",
   "metadata": {},
   "outputs": [
    {
     "data": {
      "text/html": [
       "<div>\n",
       "<style scoped>\n",
       "    .dataframe tbody tr th:only-of-type {\n",
       "        vertical-align: middle;\n",
       "    }\n",
       "\n",
       "    .dataframe tbody tr th {\n",
       "        vertical-align: top;\n",
       "    }\n",
       "\n",
       "    .dataframe thead th {\n",
       "        text-align: right;\n",
       "    }\n",
       "</style>\n",
       "<table border=\"1\" class=\"dataframe\">\n",
       "  <thead>\n",
       "    <tr style=\"text-align: right;\">\n",
       "      <th></th>\n",
       "      <th>match_no</th>\n",
       "      <th>ballnumber</th>\n",
       "      <th>inningno</th>\n",
       "      <th>over</th>\n",
       "      <th>outcome</th>\n",
       "      <th>batter</th>\n",
       "      <th>bowler</th>\n",
       "      <th>comment</th>\n",
       "      <th>score</th>\n",
       "    </tr>\n",
       "  </thead>\n",
       "  <tbody>\n",
       "    <tr>\n",
       "      <th>0</th>\n",
       "      <td>1</td>\n",
       "      <td>1</td>\n",
       "      <td>1</td>\n",
       "      <td>0.1</td>\n",
       "      <td>0</td>\n",
       "      <td>Devon Conway</td>\n",
       "      <td>Mohammed Shami</td>\n",
       "      <td>Mohammed Shami to Devon Conway, no run,</td>\n",
       "      <td>0</td>\n",
       "    </tr>\n",
       "    <tr>\n",
       "      <th>1</th>\n",
       "      <td>1</td>\n",
       "      <td>2</td>\n",
       "      <td>1</td>\n",
       "      <td>0.2</td>\n",
       "      <td>1lb</td>\n",
       "      <td>Devon Conway</td>\n",
       "      <td>Mohammed Shami</td>\n",
       "      <td>Mohammed Shami to Devon Conway, 1 leg bye,</td>\n",
       "      <td>1</td>\n",
       "    </tr>\n",
       "    <tr>\n",
       "      <th>2</th>\n",
       "      <td>1</td>\n",
       "      <td>3</td>\n",
       "      <td>1</td>\n",
       "      <td>0.3</td>\n",
       "      <td>0</td>\n",
       "      <td>Ruturaj Gaikwad</td>\n",
       "      <td>Mohammed Shami</td>\n",
       "      <td>Mohammed Shami to Ruturaj Gaikwad, no run,</td>\n",
       "      <td>0</td>\n",
       "    </tr>\n",
       "    <tr>\n",
       "      <th>3</th>\n",
       "      <td>1</td>\n",
       "      <td>4</td>\n",
       "      <td>1</td>\n",
       "      <td>0.4</td>\n",
       "      <td>1</td>\n",
       "      <td>Ruturaj Gaikwad</td>\n",
       "      <td>Mohammed Shami</td>\n",
       "      <td>Mohammed Shami to Ruturaj Gaikwad, 1 run,</td>\n",
       "      <td>1</td>\n",
       "    </tr>\n",
       "    <tr>\n",
       "      <th>4</th>\n",
       "      <td>1</td>\n",
       "      <td>5</td>\n",
       "      <td>1</td>\n",
       "      <td>0.5</td>\n",
       "      <td>0</td>\n",
       "      <td>Devon Conway</td>\n",
       "      <td>Mohammed Shami</td>\n",
       "      <td>Mohammed Shami to Devon Conway, no run,</td>\n",
       "      <td>0</td>\n",
       "    </tr>\n",
       "  </tbody>\n",
       "</table>\n",
       "</div>"
      ],
      "text/plain": [
       "   match_no  ballnumber  inningno  over outcome           batter  \\\n",
       "0         1           1         1   0.1       0     Devon Conway   \n",
       "1         1           2         1   0.2     1lb     Devon Conway   \n",
       "2         1           3         1   0.3       0  Ruturaj Gaikwad   \n",
       "3         1           4         1   0.4       1  Ruturaj Gaikwad   \n",
       "4         1           5         1   0.5       0     Devon Conway   \n",
       "\n",
       "           bowler                                     comment  score  \n",
       "0  Mohammed Shami     Mohammed Shami to Devon Conway, no run,      0  \n",
       "1  Mohammed Shami  Mohammed Shami to Devon Conway, 1 leg bye,      1  \n",
       "2  Mohammed Shami  Mohammed Shami to Ruturaj Gaikwad, no run,      0  \n",
       "3  Mohammed Shami   Mohammed Shami to Ruturaj Gaikwad, 1 run,      1  \n",
       "4  Mohammed Shami     Mohammed Shami to Devon Conway, no run,      0  "
      ]
     },
     "execution_count": 83,
     "metadata": {},
     "output_type": "execute_result"
    }
   ],
   "source": [
    "match_1.head()"
   ]
  },
  {
   "cell_type": "code",
   "execution_count": 84,
   "id": "fc46e2b5-8130-495b-b221-936ac454d3ab",
   "metadata": {},
   "outputs": [
    {
     "data": {
      "text/plain": [
       "(243, 9)"
      ]
     },
     "execution_count": 84,
     "metadata": {},
     "output_type": "execute_result"
    }
   ],
   "source": [
    "match_1.shape"
   ]
  },
  {
   "cell_type": "code",
   "execution_count": 86,
   "id": "b236ef22-91d5-4f73-ba60-c7c36af9157d",
   "metadata": {},
   "outputs": [],
   "source": [
    "csk = match_1[match_1['inningno']==1]"
   ]
  },
  {
   "cell_type": "code",
   "execution_count": 87,
   "id": "16e1f0d4-8d93-4acb-a3ca-38f9e5196d78",
   "metadata": {},
   "outputs": [
    {
     "data": {
      "text/plain": [
       "outcome\n",
       "1      44\n",
       "0      38\n",
       "6      13\n",
       "4      10\n",
       "w       7\n",
       "2       4\n",
       "1lb     2\n",
       "1nb     1\n",
       "4lb     1\n",
       "1b      1\n",
       "Name: count, dtype: int64"
      ]
     },
     "execution_count": 87,
     "metadata": {},
     "output_type": "execute_result"
    }
   ],
   "source": [
    "csk['outcome'].value_counts()"
   ]
  },
  {
   "cell_type": "code",
   "execution_count": 89,
   "id": "df4504cc-22fb-444c-82c4-4e906ea97cbd",
   "metadata": {},
   "outputs": [],
   "source": [
    "gt = match_1[match_1['inningno']==2]"
   ]
  },
  {
   "cell_type": "code",
   "execution_count": 90,
   "id": "fd670ab0-d901-4660-b9da-1620a20d3096",
   "metadata": {},
   "outputs": [
    {
     "data": {
      "text/plain": [
       "outcome\n",
       "1      45\n",
       "0      32\n",
       "4      15\n",
       "2       8\n",
       "6       8\n",
       "w       5\n",
       "1wd     4\n",
       "1lb     2\n",
       "1nb     1\n",
       "2nb     1\n",
       "4lb     1\n",
       "Name: count, dtype: int64"
      ]
     },
     "execution_count": 90,
     "metadata": {},
     "output_type": "execute_result"
    }
   ],
   "source": [
    "gt['outcome'].value_counts()"
   ]
  },
  {
   "cell_type": "code",
   "execution_count": null,
   "id": "f522a764-ce5f-4d45-9200-470a34c1dd0b",
   "metadata": {},
   "outputs": [],
   "source": []
  }
 ],
 "metadata": {
  "kernelspec": {
   "display_name": "Python 3 (ipykernel)",
   "language": "python",
   "name": "python3"
  },
  "language_info": {
   "codemirror_mode": {
    "name": "ipython",
    "version": 3
   },
   "file_extension": ".py",
   "mimetype": "text/x-python",
   "name": "python",
   "nbconvert_exporter": "python",
   "pygments_lexer": "ipython3",
   "version": "3.11.4"
  }
 },
 "nbformat": 4,
 "nbformat_minor": 5
}
